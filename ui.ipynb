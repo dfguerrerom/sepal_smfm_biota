{
 "cells": [
  {
   "cell_type": "code",
   "execution_count": null,
   "metadata": {
    "tags": []
   },
   "outputs": [],
   "source": [
    "from component.tiles import *"
   ]
  },
  {
   "cell_type": "code",
   "execution_count": null,
   "metadata": {
    "tags": []
   },
   "outputs": [],
   "source": [
    "parameters = Parameters()"
   ]
  },
  {
   "cell_type": "code",
   "execution_count": null,
   "metadata": {
    "tags": []
   },
   "outputs": [],
   "source": [
    "process = Process(parameters)"
   ]
  },
  {
   "cell_type": "code",
   "execution_count": null,
   "metadata": {
    "tags": []
   },
   "outputs": [],
   "source": [
    "process_tile = sw.Tile(id_='process', title='Process', inputs=[process])\n",
    "\n",
    "parameters_tile = sw.Tile(id_='parameters', title='Parameters', inputs=[parameters])\n",
    "\n",
    "appBar = sw.AppBar('SMFM Biota')\n",
    "\n",
    "content = [\n",
    "    parameters_tile,\n",
    "    process_tile,\n",
    "]\n",
    "\n",
    "#create a drawer \n",
    "item_param = sw.DrawerItem('Parameters', 'mdi-map-marker-check', card=\"parameters\").display_tile(content)\n",
    "item_process = sw.DrawerItem('Process', 'mdi-earth', card=\"process\").display_tile(content)\n",
    "\n",
    "code_link = 'https://github.com/contrib/sepal_smfm_biota'\n",
    "wiki_link = 'https://biota.readthedocs.io/en/latest/gui.html'\n",
    "issue = 'https://github.com/ingdanielguerrero/smfm_biota/issues/new'\n",
    "\n",
    "items = [\n",
    "    item_param,\n",
    "    item_process,\n",
    "]\n",
    "\n",
    "drawer = sw.NavDrawer(items, code = code_link, wiki = wiki_link, issue = issue).display_drawer(appBar.toggle_button)\n",
    "\n",
    "#build the app \n",
    "#\n",
    "app = sw.App(\n",
    "    appBar = appBar,\n",
    "    tiles=content, \n",
    "    navDrawer=drawer\n",
    ").show_tile('parameters')\n",
    "#display the app\n",
    "app"
   ]
  }
 ],
 "metadata": {
  "kernelspec": {
   "display_name": " (venv) sepal_smfm_biota",
   "language": "python",
   "name": "venv-sepal_smfm_biota"
  },
  "language_info": {
   "codemirror_mode": {
    "name": "ipython",
    "version": 3
   },
   "file_extension": ".py",
   "mimetype": "text/x-python",
   "name": "python",
   "nbconvert_exporter": "python",
   "pygments_lexer": "ipython3",
   "version": "3.10.12"
  },
  "title": "SMFM Biota module"
 },
 "nbformat": 4,
 "nbformat_minor": 4
}